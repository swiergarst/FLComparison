{
 "cells": [
  {
   "cell_type": "code",
   "execution_count": 1,
   "id": "c2411f68",
   "metadata": {},
   "outputs": [],
   "source": [
    "import numpy as np\n",
    "import matplotlib.pyplot as plt\n",
    "import pandas as pd\n",
    "import math\n",
    "\n",
    "from scipy.stats import powerlaw"
   ]
  },
  {
   "cell_type": "markdown",
   "id": "1e05e587",
   "metadata": {},
   "source": [
    "## Prerequisites"
   ]
  },
  {
   "cell_type": "code",
   "execution_count": 2,
   "id": "2721edb4",
   "metadata": {},
   "outputs": [],
   "source": [
    "# convert labels into numbers (0 for no AML, 1 for AML)\n",
    "def convert(x):\n",
    "    if x == \"CONTROL\":\n",
    "        return 0\n",
    "    elif x == \"CASE\":\n",
    "        return 1"
   ]
  },
  {
   "cell_type": "code",
   "execution_count": 3,
   "id": "45cc9b71",
   "metadata": {},
   "outputs": [],
   "source": [
    "# read input files\n",
    "data_A1 = pd.read_csv(\"../datasets/AML_base/dataset_A1_RMA.txt\", sep=\"\\t\")\n",
    "annotation_A1 = pd.read_csv(\"../datasets/AML_base/dataset_A1_annotation.txt\", sep=\"\\t\")\n",
    "\n",
    "data_A2 = pd.read_csv(\"../datasets/AML_base/dataset_A2_RMA.txt\", sep=\"\\t\")\n",
    "annotation_A2 = pd.read_csv(\"../datasets/AML_base/dataset_A2_annotation.txt\", sep=\"\\t\")\n",
    "\n",
    "data_A3 = pd.read_csv(\"../datasets/AML_base/dataset_A3_DESeq2.txt\", sep=\"\\t\")\n",
    "annotation_A3 = pd.read_csv(\"../datasets/AML_base/dataset_A3_annotation.txt\", sep=\"\\t\")\n",
    "\n",
    "\n",
    "# flip datafile, as the samples are columns in the original file\n",
    "data_A1 = data_A1.transpose()\n",
    "data_A2 = data_A2.transpose()\n",
    "data_A3 = data_A3.transpose()"
   ]
  },
  {
   "cell_type": "markdown",
   "id": "db1f65a4",
   "metadata": {},
   "source": [
    "## Preprocessing on the A1-A3 dataset"
   ]
  },
  {
   "cell_type": "code",
   "execution_count": 4,
   "id": "6febb021",
   "metadata": {},
   "outputs": [],
   "source": [
    "# grab the \"condition\" column, these are our labels\n",
    "labels_A1 = annotation_A1[\"Condition\"]\n",
    "labels_A2 = annotation_A2[\"Condition\"]\n",
    "labels_A3 = annotation_A3[\"Condition\"]\n",
    "\n",
    "#data_cols = data_A1.columns\n",
    "# add labels to data\n",
    "data_A1[\"label\"] = labels_A1\n",
    "data_A2[\"label\"] = labels_A2\n",
    "data_A3[\"label\"] = labels_A3"
   ]
  },
  {
   "cell_type": "code",
   "execution_count": 5,
   "id": "b10ee152",
   "metadata": {},
   "outputs": [],
   "source": [
    "# shuffle data so labels are shuffled\n",
    "data_A1 = data_A1.sample(frac=1).reset_index(drop=True)\n",
    "data_A2 = data_A2.sample(frac=1).reset_index(drop=True)\n",
    "data_A3 = data_A3.sample(frac=1).reset_index(drop=True)\n",
    "\n",
    "# convert labels into 0 and 1 (see function at the top)\n",
    "data_A1[\"label\"] = data_A1[\"label\"].apply(convert)\n",
    "data_A2[\"label\"] = data_A2[\"label\"].apply(convert)\n",
    "data_A3[\"label\"] = data_A3[\"label\"].apply(convert)"
   ]
  },
  {
   "cell_type": "code",
   "execution_count": 6,
   "id": "3a1f6478",
   "metadata": {},
   "outputs": [],
   "source": [
    "# create a train/test split of 80/20; we'll simply annotate the top 80% as train, and then shuffle again\n",
    "full_sample_size = data_A1.shape[0]\n",
    "train_sample_size = math.floor(full_sample_size * 0.8)\n",
    "test_sample_size = full_sample_size - train_sample_size\n",
    "\n",
    "data_A1.loc[0:train_sample_size, \"test/train\"] = \"train\"\n",
    "data_A1.loc[train_sample_size:full_sample_size, \"test/train\"] = \"test\""
   ]
  },
  {
   "cell_type": "code",
   "execution_count": 7,
   "id": "c137f0e1",
   "metadata": {},
   "outputs": [],
   "source": [
    "# repeat for A2\n",
    "full_sample_size = data_A2.shape[0]\n",
    "train_sample_size = math.floor(full_sample_size * 0.8)\n",
    "test_sample_size = full_sample_size - train_sample_size\n",
    "\n",
    "data_A2.loc[0:train_sample_size, \"test/train\"] = \"train\"\n",
    "data_A2.loc[train_sample_size:full_sample_size, \"test/train\"] = \"test\""
   ]
  },
  {
   "cell_type": "code",
   "execution_count": 8,
   "id": "599e8acb",
   "metadata": {},
   "outputs": [],
   "source": [
    "# repeat for A3\n",
    "full_sample_size = data_A3.shape[0]\n",
    "train_sample_size = math.floor(full_sample_size * 0.8)\n",
    "test_sample_size = full_sample_size - train_sample_size\n",
    "\n",
    "data_A3.loc[0:train_sample_size, \"test/train\"] = \"train\"\n",
    "data_A3.loc[train_sample_size:full_sample_size, \"test/train\"] = \"test\"\n"
   ]
  },
  {
   "cell_type": "code",
   "execution_count": 9,
   "id": "4c06c0eb",
   "metadata": {},
   "outputs": [
    {
     "name": "stdout",
     "output_type": "stream",
     "text": [
      "1451\n",
      "1049\n"
     ]
    }
   ],
   "source": [
    "print(data_A1.loc[data_A1['label'] == 0].shape[0])\n",
    "print(data_A1.loc[data_A1['label'] == 1].shape[0])"
   ]
  },
  {
   "cell_type": "code",
   "execution_count": 10,
   "id": "313d6144",
   "metadata": {},
   "outputs": [
    {
     "name": "stdout",
     "output_type": "stream",
     "text": [
      "5760\n",
      "2588\n"
     ]
    }
   ],
   "source": [
    "print(data_A2.loc[data_A2['label'] == 0].shape[0])\n",
    "print(data_A2.loc[data_A2['label'] == 1].shape[0])"
   ]
  },
  {
   "cell_type": "code",
   "execution_count": null,
   "id": "9d97cfcf",
   "metadata": {},
   "outputs": [],
   "source": []
  },
  {
   "cell_type": "code",
   "execution_count": 15,
   "id": "b6963fdd",
   "metadata": {},
   "outputs": [
    {
     "data": {
      "text/plain": [
       "Index(['PAX8', 'CCL5', 'MMP14', 'DTX2P1-UPK3BP1-PMS2P11', 'BAD', 'PRPF8',\n",
       "       'CAPNS1', 'RPL35', 'EIF4G2', 'EIF3D',\n",
       "       ...\n",
       "       'FKBP15', 'LRCH4', 'MEX3D', 'BCAN', 'ACTB', 'GAPDH', 'MIR3648-2',\n",
       "       'MIR3648-1', 'label', 'test/train'],\n",
       "      dtype='object', length=12710)"
      ]
     },
     "execution_count": 15,
     "metadata": {},
     "output_type": "execute_result"
    }
   ],
   "source": [
    "data_A1.columns"
   ]
  },
  {
   "cell_type": "markdown",
   "id": "5e65120e",
   "metadata": {},
   "source": [
    "### To CSV"
   ]
  },
  {
   "cell_type": "code",
   "execution_count": null,
   "id": "86557197",
   "metadata": {},
   "outputs": [],
   "source": []
  },
  {
   "cell_type": "markdown",
   "id": "5e49817f",
   "metadata": {},
   "source": [
    "## Separation of A2 dataset (IID, CI, SI, 10 clients)"
   ]
  },
  {
   "cell_type": "code",
   "execution_count": 25,
   "id": "beb2cf9c",
   "metadata": {},
   "outputs": [],
   "source": [
    "# create 10 datasets\n",
    "\n",
    "# shuffle before splitting up into parts\n",
    "data_A2 = data_A2.sample(frac=1).reset_index(drop=True)\n",
    "\n",
    "num_samples = data_A2.shape[0]\n",
    "num_clients = 10\n",
    "IID_sets = []\n",
    "\n",
    "samples_per_client = math.floor(num_samples/num_clients)\n",
    "for i in range(num_clients):\n",
    "    client = data_A2.iloc[i * samples_per_client:(i+1) * samples_per_client]\n",
    "    IID_sets.append(client)"
   ]
  },
  {
   "cell_type": "code",
   "execution_count": 22,
   "id": "b5916647",
   "metadata": {},
   "outputs": [],
   "source": [
    "# create 10 more datasets, this time sample-imbalanced\n",
    "### create uniform datasets\n",
    "num_clients = 10\n",
    "\n",
    "data_A2 = data_A2.sample(frac=1).reset_index(drop=True)\n",
    "\n",
    "num_samples = data_A2.shape[0]\n",
    "# create power-law distribution\n",
    "x = np.linspace(0.1, 1.0, 10)\n",
    "pdf = np.array(powerlaw.pdf(x, a=1.66))\n",
    "pdf_norm = pdf / pdf.sum()\n",
    "# sample according to power law\n",
    "sample_nonIID_sets = []\n",
    "begin_client_samples = 0\n",
    "for i in range (num_clients):\n",
    "    client_sample_amount = math.floor(pdf_norm[i] * num_samples)\n",
    "    client = data_A2.iloc[begin_client_samples : begin_client_samples + client_sample_amount]\n",
    "    begin_client_samples += client_sample_amount\n",
    "    sample_nonIID_sets.append(client)\n",
    "    \n"
   ]
  },
  {
   "cell_type": "code",
   "execution_count": 23,
   "id": "3f66698b",
   "metadata": {},
   "outputs": [],
   "source": [
    "### create non-uniform datasets, class-wise\n",
    "# split dataset in two for easier working\n",
    "A2_0 = data_A2.loc[(data_A2['label'] == 0)]\n",
    "A2_1 = data_A2.loc[(data_A2['label'] == 1)]\n",
    "\n",
    "num_clients = 10\n",
    "#shuffle both for good measure\n",
    "A2_0 = A2_0.sample(frac=1).reset_index(drop=True)\n",
    "A2_1 = A2_1.sample(frac=1).reset_index(drop=True)\n",
    "\n",
    "total_samples_0 = A2_0.shape[0]\n",
    "total_samples_1 = A2_1.shape[0]\n",
    "\n",
    "class_nonIID_sets = []\n",
    "begin_sample_0 = 0\n",
    "begin_sample_1 = 0\n",
    "for i in range(num_clients):\n",
    "    amount_class_0 = math.floor(pdf_norm[i] * total_samples_0)\n",
    "    amount_class_1 = math.floor(num_samples / 10) - amount_class_0\n",
    "    tmp1 = A2_0.iloc[begin_sample_0:begin_sample_0+amount_class_0]\n",
    "    tmp2 = A2_1.iloc[begin_sample_1:begin_sample_1+amount_class_1]\n",
    "    client = pd.concat([tmp1, tmp2])\n",
    "    client = client.sample(frac=1).reset_index(drop=True)\n",
    "    class_nonIID_sets.append(client)\n",
    "    begin_sample_0 += amount_class_0\n",
    "    begin_sample_1 += amount_class_1"
   ]
  },
  {
   "cell_type": "markdown",
   "id": "e15a3c7f",
   "metadata": {},
   "source": [
    "### To CSV"
   ]
  },
  {
   "cell_type": "code",
   "execution_count": null,
   "id": "84f6047f",
   "metadata": {},
   "outputs": [],
   "source": [
    "# writing to csv's\n",
    "for i, client in enumerate(IID_sets):\n",
    "    client.to_csv(\"AML_A2_IID_client\" + str(i) + \".csv\", index=False)\n",
    "    \n",
    "# writing to csv's\n",
    "for i, client in enumerate(sample_nonIID_sets):\n",
    "    client.to_csv(\"AML_A2_PCA_client\" + str(i) + \".csv\", index=False)\n",
    "\n",
    "for i, client in enumerate(class_nonIID_sets):\n",
    "    client.to_csv(\"A2_class_imbalance_client\" + str(i) + \".csv\", index = False)"
   ]
  },
  {
   "cell_type": "markdown",
   "id": "50e70877",
   "metadata": {},
   "source": [
    "## Splitting comBat A2 into two parts for memory reasons"
   ]
  },
  {
   "cell_type": "code",
   "execution_count": 4,
   "id": "9f0a4c01",
   "metadata": {},
   "outputs": [
    {
     "data": {
      "text/html": [
       "<div>\n",
       "<style scoped>\n",
       "    .dataframe tbody tr th:only-of-type {\n",
       "        vertical-align: middle;\n",
       "    }\n",
       "\n",
       "    .dataframe tbody tr th {\n",
       "        vertical-align: top;\n",
       "    }\n",
       "\n",
       "    .dataframe thead th {\n",
       "        text-align: right;\n",
       "    }\n",
       "</style>\n",
       "<table border=\"1\" class=\"dataframe\">\n",
       "  <thead>\n",
       "    <tr style=\"text-align: right;\">\n",
       "      <th></th>\n",
       "      <th>PAX8</th>\n",
       "      <th>CCL5</th>\n",
       "      <th>MMP14</th>\n",
       "      <th>DTX2P1-UPK3BP1-PMS2P11</th>\n",
       "      <th>BAD</th>\n",
       "      <th>PRPF8</th>\n",
       "      <th>CAPNS1</th>\n",
       "      <th>RPL35</th>\n",
       "      <th>EIF4G2</th>\n",
       "      <th>EIF3D</th>\n",
       "      <th>...</th>\n",
       "      <th>FKBP15</th>\n",
       "      <th>LRCH4</th>\n",
       "      <th>MEX3D</th>\n",
       "      <th>BCAN</th>\n",
       "      <th>ACTB</th>\n",
       "      <th>GAPDH</th>\n",
       "      <th>MIR3648-2</th>\n",
       "      <th>MIR3648-1</th>\n",
       "      <th>label</th>\n",
       "      <th>test/train</th>\n",
       "    </tr>\n",
       "  </thead>\n",
       "  <tbody>\n",
       "    <tr>\n",
       "      <th>0</th>\n",
       "      <td>-8.586827</td>\n",
       "      <td>1111.732881</td>\n",
       "      <td>-56.320797</td>\n",
       "      <td>76.712481</td>\n",
       "      <td>25.808423</td>\n",
       "      <td>1705.904730</td>\n",
       "      <td>1263.031037</td>\n",
       "      <td>1495.525106</td>\n",
       "      <td>2984.474018</td>\n",
       "      <td>928.301769</td>\n",
       "      <td>...</td>\n",
       "      <td>423.047371</td>\n",
       "      <td>645.137074</td>\n",
       "      <td>18.077582</td>\n",
       "      <td>6.030958</td>\n",
       "      <td>15870.452920</td>\n",
       "      <td>6516.236566</td>\n",
       "      <td>3.667506</td>\n",
       "      <td>3.672531</td>\n",
       "      <td>1</td>\n",
       "      <td>train</td>\n",
       "    </tr>\n",
       "    <tr>\n",
       "      <th>1</th>\n",
       "      <td>8.316241</td>\n",
       "      <td>-450.938138</td>\n",
       "      <td>-39.999605</td>\n",
       "      <td>201.313392</td>\n",
       "      <td>82.125698</td>\n",
       "      <td>1613.556163</td>\n",
       "      <td>954.724966</td>\n",
       "      <td>1515.709655</td>\n",
       "      <td>3132.296179</td>\n",
       "      <td>978.841230</td>\n",
       "      <td>...</td>\n",
       "      <td>302.017008</td>\n",
       "      <td>203.214318</td>\n",
       "      <td>9.646187</td>\n",
       "      <td>5.211092</td>\n",
       "      <td>15952.865035</td>\n",
       "      <td>5853.793219</td>\n",
       "      <td>6.583491</td>\n",
       "      <td>6.980514</td>\n",
       "      <td>0</td>\n",
       "      <td>train</td>\n",
       "    </tr>\n",
       "    <tr>\n",
       "      <th>2</th>\n",
       "      <td>4.426694</td>\n",
       "      <td>730.125103</td>\n",
       "      <td>84.549870</td>\n",
       "      <td>184.233553</td>\n",
       "      <td>87.236502</td>\n",
       "      <td>1722.005514</td>\n",
       "      <td>1122.654964</td>\n",
       "      <td>1440.484227</td>\n",
       "      <td>3065.280841</td>\n",
       "      <td>1019.155945</td>\n",
       "      <td>...</td>\n",
       "      <td>95.643406</td>\n",
       "      <td>760.037390</td>\n",
       "      <td>8.561917</td>\n",
       "      <td>7.526614</td>\n",
       "      <td>15533.053690</td>\n",
       "      <td>6388.510275</td>\n",
       "      <td>5.571398</td>\n",
       "      <td>5.460379</td>\n",
       "      <td>1</td>\n",
       "      <td>train</td>\n",
       "    </tr>\n",
       "    <tr>\n",
       "      <th>3</th>\n",
       "      <td>29.273835</td>\n",
       "      <td>1127.967744</td>\n",
       "      <td>-59.899153</td>\n",
       "      <td>86.636787</td>\n",
       "      <td>67.461858</td>\n",
       "      <td>1393.635869</td>\n",
       "      <td>837.062262</td>\n",
       "      <td>1490.663451</td>\n",
       "      <td>3247.885716</td>\n",
       "      <td>762.493940</td>\n",
       "      <td>...</td>\n",
       "      <td>189.997359</td>\n",
       "      <td>782.614853</td>\n",
       "      <td>11.118742</td>\n",
       "      <td>6.863773</td>\n",
       "      <td>15307.755957</td>\n",
       "      <td>6461.127793</td>\n",
       "      <td>5.266336</td>\n",
       "      <td>5.835727</td>\n",
       "      <td>1</td>\n",
       "      <td>test</td>\n",
       "    </tr>\n",
       "    <tr>\n",
       "      <th>4</th>\n",
       "      <td>-109.829206</td>\n",
       "      <td>911.286176</td>\n",
       "      <td>-675.586967</td>\n",
       "      <td>-406.767286</td>\n",
       "      <td>-127.263859</td>\n",
       "      <td>377.944079</td>\n",
       "      <td>533.348512</td>\n",
       "      <td>545.852920</td>\n",
       "      <td>3761.241308</td>\n",
       "      <td>-51.045323</td>\n",
       "      <td>...</td>\n",
       "      <td>379.453409</td>\n",
       "      <td>36.450412</td>\n",
       "      <td>-0.828204</td>\n",
       "      <td>-1.739212</td>\n",
       "      <td>14493.750211</td>\n",
       "      <td>4902.464341</td>\n",
       "      <td>5.706161</td>\n",
       "      <td>11.664367</td>\n",
       "      <td>0</td>\n",
       "      <td>train</td>\n",
       "    </tr>\n",
       "  </tbody>\n",
       "</table>\n",
       "<p>5 rows × 12710 columns</p>\n",
       "</div>"
      ],
      "text/plain": [
       "         PAX8         CCL5       MMP14  DTX2P1-UPK3BP1-PMS2P11         BAD  \\\n",
       "0   -8.586827  1111.732881  -56.320797               76.712481   25.808423   \n",
       "1    8.316241  -450.938138  -39.999605              201.313392   82.125698   \n",
       "2    4.426694   730.125103   84.549870              184.233553   87.236502   \n",
       "3   29.273835  1127.967744  -59.899153               86.636787   67.461858   \n",
       "4 -109.829206   911.286176 -675.586967             -406.767286 -127.263859   \n",
       "\n",
       "         PRPF8       CAPNS1        RPL35       EIF4G2        EIF3D  ...  \\\n",
       "0  1705.904730  1263.031037  1495.525106  2984.474018   928.301769  ...   \n",
       "1  1613.556163   954.724966  1515.709655  3132.296179   978.841230  ...   \n",
       "2  1722.005514  1122.654964  1440.484227  3065.280841  1019.155945  ...   \n",
       "3  1393.635869   837.062262  1490.663451  3247.885716   762.493940  ...   \n",
       "4   377.944079   533.348512   545.852920  3761.241308   -51.045323  ...   \n",
       "\n",
       "       FKBP15       LRCH4      MEX3D      BCAN          ACTB        GAPDH  \\\n",
       "0  423.047371  645.137074  18.077582  6.030958  15870.452920  6516.236566   \n",
       "1  302.017008  203.214318   9.646187  5.211092  15952.865035  5853.793219   \n",
       "2   95.643406  760.037390   8.561917  7.526614  15533.053690  6388.510275   \n",
       "3  189.997359  782.614853  11.118742  6.863773  15307.755957  6461.127793   \n",
       "4  379.453409   36.450412  -0.828204 -1.739212  14493.750211  4902.464341   \n",
       "\n",
       "   MIR3648-2  MIR3648-1  label  test/train  \n",
       "0   3.667506   3.672531      1       train  \n",
       "1   6.583491   6.980514      0       train  \n",
       "2   5.571398   5.460379      1       train  \n",
       "3   5.266336   5.835727      1        test  \n",
       "4   5.706161  11.664367      0       train  \n",
       "\n",
       "[5 rows x 12710 columns]"
      ]
     },
     "execution_count": 4,
     "metadata": {},
     "output_type": "execute_result"
    }
   ],
   "source": [
    "A2_base = pd.read_csv(\"../datasets/AML/A2/AML_comBat_adj_A2.csv\")\n",
    "A2_base.head()"
   ]
  },
  {
   "cell_type": "code",
   "execution_count": 10,
   "id": "af0b24f8",
   "metadata": {},
   "outputs": [],
   "source": [
    "n = A2_base.shape[0]\n",
    "n1 = math.floor(n/2)\n",
    "n2 = n - n1\n",
    "\n",
    "A2_1 = A2_base.head(n1)\n",
    "A2_2 = A2_base.tail(n2)"
   ]
  },
  {
   "cell_type": "code",
   "execution_count": 12,
   "id": "540f04e0",
   "metadata": {},
   "outputs": [],
   "source": [
    "A2_1.to_csv(\"AML_comBat_A2_1.csv\", index = False)\n",
    "A2_2.to_csv(\"AML_comBat_A2_2.csv\", index = False)"
   ]
  }
 ],
 "metadata": {
  "kernelspec": {
   "display_name": "Python 3 (ipykernel)",
   "language": "python",
   "name": "python3"
  },
  "language_info": {
   "codemirror_mode": {
    "name": "ipython",
    "version": 3
   },
   "file_extension": ".py",
   "mimetype": "text/x-python",
   "name": "python",
   "nbconvert_exporter": "python",
   "pygments_lexer": "ipython3",
   "version": "3.7.10"
  }
 },
 "nbformat": 4,
 "nbformat_minor": 5
}
